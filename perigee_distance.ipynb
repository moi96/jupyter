{
 "cells": [
  {
   "cell_type": "code",
   "execution_count": 1,
   "metadata": {},
   "outputs": [
    {
     "name": "stdout",
     "output_type": "stream",
     "text": [
      "<class 'datetime.datetime'>\n",
      "1996-02-17 08:41:00\n"
     ]
    }
   ],
   "source": [
    "# from datetime import datetime\n",
    "# datetime_str = \"1996 Feb 17 08:41\"\n",
    "# datetime_object= datetime.strptime(datetime_str,'%Y %b %d %H:%M')\n",
    "# print(type(datetime_object))\n",
    "# print(datetime_object)"
   ]
  },
  {
   "cell_type": "code",
   "execution_count": 6,
   "metadata": {},
   "outputs": [
    {
     "name": "stdout",
     "output_type": "stream",
     "text": [
      "   year month  day   time  perigee  day2\n",
      "0  1994   Jan    6  01:19   370136     6\n",
      "1  1994   Jan   31  03:43   367407    31\n",
      "2  1994   Feb   27  22:12   361844    27\n",
      "3  1994   Mar   28  06:15   357955    28\n",
      "4  1994   Apr   25  17:18   356925    25\n",
      "5  1994   May   24  02:59   358813    24\n",
      "6  1994   Jun   21  06:42   362949    21\n",
      "7  1994   Jul   18  17:31   367867    18\n",
      "8  1994   Aug   12  23:22   369467    12\n",
      "9  1994   Sep    8  14:28   365144     8\n",
      "<class 'pandas.core.frame.DataFrame'>\n"
     ]
    }
   ],
   "source": [
    "import pandas as pd \n",
    "\n",
    "data = pd.read_csv(\"perigeedistance.csv\", sep=\";\") \n",
    "\n",
    "print(data.head(10))\n",
    "print(type(data))\n"
   ]
  },
  {
   "cell_type": "code",
   "execution_count": 22,
   "metadata": {},
   "outputs": [
    {
     "name": "stdout",
     "output_type": "stream",
     "text": [
      "   year month  day   time  perigee  day2      day3                 dz  \\\n",
      "0  1994   Jan    6  01:19   370136     6  Jan-1994   1994 Jan 6 01:19   \n",
      "1  1994   Jan   31  03:43   367407    31  Jan-1994  1994 Jan 31 03:43   \n",
      "2  1994   Feb   27  22:12   361844    27  Feb-1994  1994 Feb 27 22:12   \n",
      "3  1994   Mar   28  06:15   357955    28  Mar-1994  1994 Mar 28 06:15   \n",
      "4  1994   Apr   25  17:18   356925    25  Apr-1994  1994 Apr 25 17:18   \n",
      "\n",
      "                 date           date_str  \n",
      "0 1994-01-06 01:19:00   1994 Jan 6 01:19  \n",
      "1 1994-01-31 03:43:00  1994 Jan 31 03:43  \n",
      "2 1994-02-27 22:12:00  1994 Feb 27 22:12  \n",
      "3 1994-03-28 06:15:00  1994 Mar 28 06:15  \n",
      "4 1994-04-25 17:18:00  1994 Apr 25 17:18  \n"
     ]
    }
   ],
   "source": [
    "data['date_str']=data['year'].astype(str) + ' ' + data['month'] + ' ' + data['day2'].astype(str) + ' ' + data['time']\n",
    "print(data.head())"
   ]
  },
  {
   "cell_type": "code",
   "execution_count": 23,
   "metadata": {},
   "outputs": [
    {
     "name": "stdout",
     "output_type": "stream",
     "text": [
      "   year month  day   time  perigee  day2      day3                 dz  \\\n",
      "0  1994   Jan    6  01:19   370136     6  Jan-1994   1994 Jan 6 01:19   \n",
      "1  1994   Jan   31  03:43   367407    31  Jan-1994  1994 Jan 31 03:43   \n",
      "2  1994   Feb   27  22:12   361844    27  Feb-1994  1994 Feb 27 22:12   \n",
      "3  1994   Mar   28  06:15   357955    28  Mar-1994  1994 Mar 28 06:15   \n",
      "4  1994   Apr   25  17:18   356925    25  Apr-1994  1994 Apr 25 17:18   \n",
      "\n",
      "                 date           date_str  \n",
      "0 1994-01-06 01:19:00   1994 Jan 6 01:19  \n",
      "1 1994-01-31 03:43:00  1994 Jan 31 03:43  \n",
      "2 1994-02-27 22:12:00  1994 Feb 27 22:12  \n",
      "3 1994-03-28 06:15:00  1994 Mar 28 06:15  \n",
      "4 1994-04-25 17:18:00  1994 Apr 25 17:18  \n"
     ]
    }
   ],
   "source": [
    "data['date'] = pd.to_datetime(data['date_str'], format='%Y %b %d %H:%M')\n",
    "print(data.head())"
   ]
  },
  {
   "cell_type": "code",
   "execution_count": null,
   "metadata": {
    "collapsed": true
   },
   "outputs": [],
   "source": []
  }
 ],
 "metadata": {
  "kernelspec": {
   "display_name": "Python 3",
   "language": "python",
   "name": "python3"
  },
  "language_info": {
   "codemirror_mode": {
    "name": "ipython",
    "version": 3
   },
   "file_extension": ".py",
   "mimetype": "text/x-python",
   "name": "python",
   "nbconvert_exporter": "python",
   "pygments_lexer": "ipython3",
   "version": "3.6.1"
  }
 },
 "nbformat": 4,
 "nbformat_minor": 2
}
